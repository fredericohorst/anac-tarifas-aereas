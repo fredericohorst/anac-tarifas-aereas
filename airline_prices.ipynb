{
 "metadata": {
  "language_info": {
   "codemirror_mode": {
    "name": "ipython",
    "version": 3
   },
   "file_extension": ".py",
   "mimetype": "text/x-python",
   "name": "python",
   "nbconvert_exporter": "python",
   "pygments_lexer": "ipython3",
   "version": "3.9.1-final"
  },
  "orig_nbformat": 2,
  "kernelspec": {
   "name": "python3",
   "display_name": "Python 3.9.1 64-bit",
   "metadata": {
    "interpreter": {
     "hash": "ac2eaa0ea0ebeafcc7822e65e46aa9d4f966f30b695406963e145ea4a91cd4fc"
    }
   }
  }
 },
 "nbformat": 4,
 "nbformat_minor": 2,
 "cells": [
  {
   "source": [
    "\n",
    "# Brazilian Airline Historical Series Analysis\n",
    "\n",
    "#### Frederico Horst\n",
    "\n",
    "### Data Sources:\n",
    "- Historical air fares by origin, destination and airline: available at [ANAC website](https://sistemas.anac.gov.br/sas/downloads/view/frmDownload.aspx)\n",
    "- Inflation data, using IPCA index: available at [IBGE website](https://www.ibge.gov.br/estatisticas/economicas/precos-e-custos/9256-indice-nacional-de-precos-ao-consumidor-amplo.html?=&t=series-historicas)\n",
    "- More information on air fares on [ANAC website](https://www.anac.gov.br/assuntos/dados-e-estatisticas/mercado-do-transporte-aereo)\n",
    "\n",
    "### Goals:\n",
    "- Build a database for historical deflated prices.\n",
    "- Calculate the confidence interval for the average price range by route, considering a 95% confidence.\n",
    "- Confidence intervals will be calculated by route, not considering airline differences. We want to take a closer look to the consumer point of view.\n"
   ],
   "cell_type": "markdown",
   "metadata": {}
  },
  {
   "cell_type": "code",
   "execution_count": 1,
   "metadata": {},
   "outputs": [],
   "source": [
    "# external libs\n",
    "import numpy as np\n",
    "import pandas as pd\n",
    "import matplotlib.pyplot as plt\n",
    "import seaborn as sns\n",
    "from pyspark.sql import SparkSession, SQLContext\n",
    "\n",
    "# internal lib:\n",
    "import files_processor\n",
    "\n",
    "# spark configs:\n",
    "spark = SparkSession.builder \\\n",
    "        .master(\"local\") \\\n",
    "        .appName(\"anac-prices\") \\\n",
    "        .config(\"spark.some.config.option\", \"some-value\") \\\n",
    "        .getOrCreate()\n",
    "\n",
    "sqlContext = SQLContext(spark)"
   ]
  },
  {
   "cell_type": "code",
   "execution_count": 2,
   "metadata": {},
   "outputs": [
    {
     "output_type": "stream",
     "name": "stdout",
     "text": [
      "###########################################################################\n",
      "BEGGINING DATA CLEANING PROCESS\n",
      "importing IPCA file\n",
      "Inflation series imported successfully\n",
      "#########################\n",
      "beginning data cleaning\n",
      "THIS IS THE END\n",
      "###########################################################################\n"
     ]
    }
   ],
   "source": [
    "# importing and cleaning files\n",
    "anac_table = files_processor.files_cleaning(\n",
    "    path_source='csv_files_from_anac',\n",
    "    inflation_file='ipca_historico.csv')"
   ]
  },
  {
   "cell_type": "code",
   "execution_count": 3,
   "metadata": {},
   "outputs": [
    {
     "output_type": "stream",
     "name": "stdout",
     "text": [
      "+----+-----+----------+-------+------+-----------+---------+------+-----+------------------+\n|year|month|year_month|company|origin|destination|    route|tariff|seats|   deflated_tariff|\n+----+-----+----------+-------+------+-----------+---------+------+-----+------------------+\n|2015|   11|    201511|    AZU|  SBPA|       SBSL|SBPA>SBSL| 985.9|    5|22.152816007370042|\n|2015|   11|    201511|    AZU|  SBGR|       SBCA|SBGR>SBCA| 305.9|    1| 6.873462234156097|\n|2015|   11|    201511|    AZU|  SBPJ|       SBPA|SBPJ>SBPA|187.39|    2| 4.210585446415531|\n|2015|   11|    201511|    AZU|  SBCT|       SBSP|SBCT>SBSP|100.01|   13| 2.247188486557539|\n|2015|   11|    201511|    AZU|  SBPA|       SBRP|SBPA>SBRP| 833.9|    1| 18.73743104629869|\n|2015|   11|    201511|    AZU|  SBFZ|       SBMO|SBFZ>SBMO| 603.9|    1|13.569415206608321|\n|2015|   11|    201511|    AZU|  SBGL|       SBMO|SBGL>SBMO| 425.9|    5| 9.569818782370323|\n|2015|   11|    201511|    AZU|  SBGR|       SBRF|SBGR>SBRF| 500.0|  103|11.234818950892606|\n|2015|   11|    201511|    AZU|  SBIL|       SBGL|SBIL>SBGL| 316.9|    1| 7.120628251075734|\n|2015|   11|    201511|    AZU|  SBCF|       SBBR|SBCF>SBBR|359.46|    1| 8.076936040175713|\n|2015|   11|    201511|    AZU|  SBGO|       SBSL|SBGO>SBSL|479.65|    1|10.777561819591277|\n|2015|   11|    201511|    AZU|  SBRP|       SBIP|SBRP>SBIP| 883.9|    1| 19.86091294138795|\n|2015|   11|    201511|    AZU|  SBSM|       SBPJ|SBSM>SBPJ| 722.9|    1| 16.24330123920053|\n|2015|   11|    201511|    AZU|  SBRJ|       SBSV|SBRJ>SBSV|874.71|    1|19.654416969070546|\n|2015|   11|    201511|    AZU|  SBRF|       SBSG|SBRF>SBSG|138.48|    1|3.1115954566392166|\n|2015|   11|    201511|    AZU|  SBGO|       SBGR|SBGO>SBGR| 300.9|    6|6.7611140446471705|\n|2015|   11|    201511|    AZU|  SBPL|       SBKP|SBPL>SBKP| 807.4|    2|18.141985641901382|\n|2015|   11|    201511|    AZU|  SBCT|       SBGR|SBCT>SBGR| 75.51|    1|1.6966823579638015|\n|2015|   11|    201511|    AZU|  SBSV|       SBNF|SBSV>SBNF| 579.9|    2|13.030143896965477|\n|2015|   11|    201511|    AZU|  SBGO|       SBPA|SBGO>SBPA| 450.2|    1|10.115830983383702|\n+----+-----+----------+-------+------+-----------+---------+------+-----+------------------+\nonly showing top 20 rows\n\n"
     ]
    }
   ],
   "source": [
    "anac_table.registerTempTable('anac_table')\n",
    "anac_table.show()"
   ]
  },
  {
   "cell_type": "code",
   "execution_count": 5,
   "metadata": {},
   "outputs": [],
   "source": [
    "# importing clean airports names\n",
    "# airports = sqlContext.read.csv('aeroportos.csv', sep=\";\", inferSchema=\"true\", header=\"true\")\n",
    "# airports.registerTempTable('airports')\n",
    "\n",
    "# calculating tariff mean without confidence interval\n",
    "grouping_query = \"\"\"\n",
    "    SELECT \n",
    "        year_month,\n",
    "        route,\n",
    "        SUM(seats) OVER partial AS sold_seats,\n",
    "        SUM(deflated_tariff) OVER partial AS total_deflated_tariff,\n",
    "        SUM(tariff) OVER partial AS total_tariff,\n",
    "        (SUM(deflated_tariff) OVER partial * SUM(seats) OVER partial) / SUM(seats) OVER total AS deflated_tariff_mean,\n",
    "        (SUM(tariff) OVER partial * SUM(seats) OVER partial) / SUM(seats) OVER total AS tariff_mean\n",
    "\n",
    "    FROM anac_table\n",
    "\n",
    "    WINDOW total AS (PARTITION BY year_month),\n",
    "        partial AS (PARTITION BY year_month, route)\n",
    "    \n",
    "    \"\"\"\n",
    "\n",
    "anac_sts = sqlContext.sql(grouping_query)\n",
    "\n"
   ]
  },
  {
   "cell_type": "code",
   "execution_count": 7,
   "metadata": {},
   "outputs": [
    {
     "output_type": "stream",
     "name": "stdout",
     "text": [
      "+----------+---------+----------+---------------------+------------+--------------------+-----------------+\n|year_month|    route|sold_seats|total_deflated_tariff|total_tariff|deflated_tariff_mean|      tariff_mean|\n+----------+---------+----------+---------------------+------------+--------------------+-----------------+\n|    200206|SBGL>SBPA|     10905|    818.4799734193633|     15273.0|   7.561658087523834|141.1020522448122|\n|    200206|SBGL>SBPA|     10905|    818.4799734193633|     15273.0|   7.561658087523834|141.1020522448122|\n|    200206|SBGL>SBPA|     10905|    818.4799734193633|     15273.0|   7.561658087523834|141.1020522448122|\n|    200206|SBGL>SBPA|     10905|    818.4799734193633|     15273.0|   7.561658087523834|141.1020522448122|\n|    200206|SBGL>SBPA|     10905|    818.4799734193633|     15273.0|   7.561658087523834|141.1020522448122|\n|    200206|SBGL>SBPA|     10905|    818.4799734193633|     15273.0|   7.561658087523834|141.1020522448122|\n|    200206|SBGL>SBPA|     10905|    818.4799734193633|     15273.0|   7.561658087523834|141.1020522448122|\n|    200206|SBGL>SBPA|     10905|    818.4799734193633|     15273.0|   7.561658087523834|141.1020522448122|\n|    200206|SBGL>SBPA|     10905|    818.4799734193633|     15273.0|   7.561658087523834|141.1020522448122|\n|    200206|SBGL>SBPA|     10905|    818.4799734193633|     15273.0|   7.561658087523834|141.1020522448122|\n|    200206|SBGL>SBPA|     10905|    818.4799734193633|     15273.0|   7.561658087523834|141.1020522448122|\n|    200206|SBGL>SBPA|     10905|    818.4799734193633|     15273.0|   7.561658087523834|141.1020522448122|\n|    200206|SBGL>SBPA|     10905|    818.4799734193633|     15273.0|   7.561658087523834|141.1020522448122|\n|    200206|SBGL>SBPA|     10905|    818.4799734193633|     15273.0|   7.561658087523834|141.1020522448122|\n|    200206|SBGL>SBPA|     10905|    818.4799734193633|     15273.0|   7.561658087523834|141.1020522448122|\n|    200206|SBGL>SBPA|     10905|    818.4799734193633|     15273.0|   7.561658087523834|141.1020522448122|\n|    200206|SBGL>SBPA|     10905|    818.4799734193633|     15273.0|   7.561658087523834|141.1020522448122|\n|    200206|SBGL>SBPA|     10905|    818.4799734193633|     15273.0|   7.561658087523834|141.1020522448122|\n|    200206|SBGL>SBPA|     10905|    818.4799734193633|     15273.0|   7.561658087523834|141.1020522448122|\n|    200206|SBGL>SBPA|     10905|    818.4799734193633|     15273.0|   7.561658087523834|141.1020522448122|\n+----------+---------+----------+---------------------+------------+--------------------+-----------------+\nonly showing top 20 rows\n\n"
     ]
    }
   ],
   "source": [
    "# anac_sts_df = anac_sts.toPandas()\n",
    "# route = anac_sts_df.route.unique()\n",
    "# anac_sts_df.head()\n",
    "\n",
    "anac_sts.show()"
   ]
  },
  {
   "cell_type": "code",
   "execution_count": null,
   "metadata": {},
   "outputs": [],
   "source": [
    "anac_sts_df.describe()"
   ]
  },
  {
   "cell_type": "code",
   "execution_count": null,
   "metadata": {},
   "outputs": [],
   "source": [
    "# https://seaborn.pydata.org/examples/jitter_stripplot.html"
   ]
  }
 ]
}
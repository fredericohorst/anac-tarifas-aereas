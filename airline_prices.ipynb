{
 "metadata": {
  "language_info": {
   "codemirror_mode": {
    "name": "ipython",
    "version": 3
   },
   "file_extension": ".py",
   "mimetype": "text/x-python",
   "name": "python",
   "nbconvert_exporter": "python",
   "pygments_lexer": "ipython3",
   "version": "3.9.1-final"
  },
  "orig_nbformat": 2,
  "kernelspec": {
   "name": "python3",
   "display_name": "Python 3.9.1 64-bit",
   "metadata": {
    "interpreter": {
     "hash": "ac2eaa0ea0ebeafcc7822e65e46aa9d4f966f30b695406963e145ea4a91cd4fc"
    }
   }
  }
 },
 "nbformat": 4,
 "nbformat_minor": 2,
 "cells": [
  {
   "source": [
    "\n",
    "# Brazilian Airline Historical Series Analysis\n",
    "\n",
    "#### Frederico Horst\n",
    "\n",
    "### Data Sources:\n",
    "- Historical air fares by origin, destination and airline: available at [ANAC website](https://sistemas.anac.gov.br/sas/downloads/view/frmDownload.aspx)\n",
    "- Inflation data, using IPCA index: available at [IBGE website](https://www.ibge.gov.br/estatisticas/economicas/precos-e-custos/9256-indice-nacional-de-precos-ao-consumidor-amplo.html?=&t=series-historicas)\n",
    "- More information on air fares on [ANAC website](https://www.anac.gov.br/assuntos/dados-e-estatisticas/mercado-do-transporte-aereo)\n",
    "\n",
    "### Goals:\n",
    "- Build a database for historical deflated prices.\n",
    "- Calculate the confidence interval for the average price range by route, considering a 95% confidence.\n",
    "- Confidence intervals will be calculated by route, not considering airline differences. We want to take a closer look to the consumer point of view.\n"
   ],
   "cell_type": "markdown",
   "metadata": {}
  },
  {
   "cell_type": "code",
   "execution_count": 4,
   "metadata": {},
   "outputs": [],
   "source": [
    "# external libs\n",
    "import numpy as np\n",
    "from pyspark.sql import SparkSession, SQLContext\n",
    "\n",
    "# internal lib:\n",
    "import files_processor\n",
    "\n",
    "# spark configs:\n",
    "spark = SparkSession.builder \\\n",
    "        .master(\"local\") \\\n",
    "        .appName(\"anac-prices\") \\\n",
    "        .config(\"spark.some.config.option\", \"some-value\") \\\n",
    "        .getOrCreate()\n",
    "\n",
    "sqlContext = SQLContext(spark)"
   ]
  },
  {
   "cell_type": "code",
   "execution_count": 5,
   "metadata": {},
   "outputs": [
    {
     "output_type": "stream",
     "name": "stdout",
     "text": [
      "###########################################################################\n",
      "BEGGINING DATA CLEANING PROCESS\n",
      "importing IPCA file\n",
      "Inflation series imported successfully\n",
      "#########################\n",
      "beginning data cleaning\n",
      "FIM DO PROCESSO\n",
      "###########################################################################\n"
     ]
    }
   ],
   "source": [
    "# importing and cleaning files\n",
    "anac_table = files_processor.files_cleaning(\n",
    "    path_source='csv_files_from_anac',\n",
    "    inflation_file='ipca_historico.csv')"
   ]
  },
  {
   "cell_type": "code",
   "execution_count": 8,
   "metadata": {},
   "outputs": [
    {
     "output_type": "stream",
     "name": "stdout",
     "text": [
      "+----+-----+----------+-------+------+-----------+------+-----+------------------+\n|year|month|year_month|company|origin|destination|tariff|seats|   deflated_tariff|\n+----+-----+----------+-------+------+-----------+------+-----+------------------+\n|2015|   11|    201511|    AZU|  SBPA|       SBSL| 985.9|    5|22.152816007370042|\n|2015|   11|    201511|    AZU|  SBGR|       SBCA| 305.9|    1| 6.873462234156097|\n|2015|   11|    201511|    AZU|  SBPJ|       SBPA|187.39|    2| 4.210585446415531|\n|2015|   11|    201511|    AZU|  SBCT|       SBSP|100.01|   13| 2.247188486557539|\n|2015|   11|    201511|    AZU|  SBPA|       SBRP| 833.9|    1| 18.73743104629869|\n|2015|   11|    201511|    AZU|  SBFZ|       SBMO| 603.9|    1|13.569415206608321|\n|2015|   11|    201511|    AZU|  SBGL|       SBMO| 425.9|    5| 9.569818782370323|\n|2015|   11|    201511|    AZU|  SBGR|       SBRF| 500.0|  103|11.234818950892606|\n|2015|   11|    201511|    AZU|  SBIL|       SBGL| 316.9|    1| 7.120628251075734|\n|2015|   11|    201511|    AZU|  SBCF|       SBBR|359.46|    1| 8.076936040175713|\n|2015|   11|    201511|    AZU|  SBGO|       SBSL|479.65|    1|10.777561819591277|\n|2015|   11|    201511|    AZU|  SBRP|       SBIP| 883.9|    1| 19.86091294138795|\n|2015|   11|    201511|    AZU|  SBSM|       SBPJ| 722.9|    1| 16.24330123920053|\n|2015|   11|    201511|    AZU|  SBRJ|       SBSV|874.71|    1|19.654416969070546|\n|2015|   11|    201511|    AZU|  SBRF|       SBSG|138.48|    1|3.1115954566392166|\n|2015|   11|    201511|    AZU|  SBGO|       SBGR| 300.9|    6|6.7611140446471705|\n|2015|   11|    201511|    AZU|  SBPL|       SBKP| 807.4|    2|18.141985641901382|\n|2015|   11|    201511|    AZU|  SBCT|       SBGR| 75.51|    1|1.6966823579638015|\n|2015|   11|    201511|    AZU|  SBSV|       SBNF| 579.9|    2|13.030143896965477|\n|2015|   11|    201511|    AZU|  SBGO|       SBPA| 450.2|    1|10.115830983383702|\n+----+-----+----------+-------+------+-----------+------+-----+------------------+\nonly showing top 20 rows\n\n"
     ]
    }
   ],
   "source": [
    "anac_table.registerTempTable('anac_table')\n",
    "anac_table.show()"
   ]
  },
  {
   "cell_type": "code",
   "execution_count": 11,
   "metadata": {},
   "outputs": [],
   "source": [
    "# importing clean airports names\n",
    "airports = sqlContext.read.csv('aeroportos.csv', sep=\";\", inferSchema=\"true\", header=\"true\")\n",
    "airports.registerTempTable('airports')\n",
    "\n",
    "grouping_query = \"\"\"\n",
    "    SELECT\n",
    "        year_month,\n",
    "        year,\n",
    "        month,\n",
    "        origin AS origin_code,\n",
    "        origin_airports.IATA AS origin,\n",
    "        destination AS destination_code,\n",
    "        destination_airports.IATA AS destination, \n",
    "        SUM(seats) AS solded_seats,\n",
    "        SUM(deflated_tariff) AS total_deflated_tariff,\n",
    "        SUM(tariff) AS total_tariff,\n",
    "        SUM(deflated_tariff)/SUM(seats) AS deflated_tariff_mean,\n",
    "        SUM(tariff)/SUM(seats) AS tariff_mean\n",
    "\n",
    "    FROM anac_table\n",
    "\n",
    "    LEFT JOIN airports AS origin_airports ON origin_airports.ICAO = anac_table.origin\n",
    "\n",
    "    LEFT JOIN airports AS destination_airports ON destination_airports.ICAO = anac_table.destination\n",
    "\n",
    "    GROUP BY 1,2,3,4,5,6,7\n",
    "    \"\"\"\n",
    "\n",
    "anac_sts = sqlContext.sql(grouping_query)\n",
    "\n"
   ]
  },
  {
   "cell_type": "code",
   "execution_count": 12,
   "metadata": {},
   "outputs": [
    {
     "output_type": "stream",
     "name": "stdout",
     "text": [
      "+----------+----+-----+-----------+------+----------------+-----------+------------+---------------------+------------------+--------------------+------------------+\n|year_month|year|month|origin_code|origin|destination_code|destination|solded_seats|total_deflated_tariff|      total_tariff|deflated_tariff_mean|       tariff_mean|\n+----------+----+-----+-----------+------+----------------+-----------+------------+---------------------+------------------+--------------------+------------------+\n|    201511|2015|   11|       SBGR|   GRU|            SBRF|        REC|       31434|    31615.35940317488|1407025.7650375366|   1.005769529909489| 44.76127012271861|\n|    201511|2015|   11|       SBBE|   BEL|            SBPA|        POA|        1235|   5656.2554686358935|251728.82341003418|   4.579963942215298|203.82900680974427|\n|    201511|2015|   11|       SBDN|   PPB|            SBAR|        AJU|          24|   221.33986714124416|  9850.62026977539|   9.222494464218506| 410.4425112406413|\n|    201511|2015|   11|       SBKP|   VCP|            SBSL|        SLZ|         691|    2607.390287165485|116040.60171508789|   3.773357868546288|167.93140624470027|\n|    201511|2015|   11|       SBSL|   SLZ|            SBJV|        JOI|          43|    324.2193477274771|14429.220123291016|  7.5399848308715605| 335.5632586811864|\n|    201511|2015|   11|       SBRJ|   SDU|            SBCF|        CNF|       22505|    7293.632112298682| 324599.4503707886|  0.3240894073449759|14.423437030472721|\n|    201511|2015|   11|       SBPS|   BPS|            SBCG|        CGR|         125|   1012.4920004578187|45060.450775146484|   8.099936003662549| 360.4836062011719|\n|    201511|2015|   11|       SBMK|   MOC|            SBGO|        GYN|          80|    670.6056769891245|29844.970275878906|   8.382570962364056| 373.0621284484863|\n|    201511|2015|   11|       SBMK|   MOC|            SBBV|        BVB|           8|    148.7249603972632| 6618.930114746094|    18.5906200496579| 827.3662643432617|\n|    201511|2015|   11|       SBMQ|   MCP|            SBNF|        NVT|          28|   412.62052766433726|18363.470275878906|  14.736447416583474| 655.8382241385324|\n|    201511|2015|   11|       SBMQ|   MCP|            SBMK|        MOC|           2|   51.293689402195284| 2282.800048828125|  25.646844701097642|1141.4000244140625|\n|    201509|2015|    9|       SBCT|   CWB|            SBGR|        GRU|       15752|   14646.924389744745| 640088.1714897156|  0.9298453777136074|40.635358779184585|\n|    201509|2015|    9|       SBCG|   CGR|            SBCF|        CNF|        1715|    3009.337964269647|131511.67951965332|  1.7547160141513976| 76.68319505519145|\n|    201509|2015|    9|       SBFL|   FLN|            SBCG|        CGR|         853|   2838.4346581694267|124042.99990844727|   3.327590455063806|145.41969508610464|\n|    201509|2015|    9|       SBBV|   BVB|            SBMO|        MCZ|          45|    496.2634929075174| 21687.31021118164|  11.028077620167053|481.94022691514755|\n|    201509|2015|    9|       SBPV|   PVH|            SBJP|        JPA|         128|    1098.157730794578| 47990.81091308594|    8.57935727183264| 374.9282102584839|\n|    201509|2015|    9|       SBSP|   CGH|            SBUL|        UDI|        6171|     8215.57944148184| 359030.6811981201|  1.3313206030597697| 58.18030808590506|\n|    201509|2015|    9|       SBRJ|   SDU|            SBIZ|        IMP|         243|    1338.668741147268|58501.430236816406|   5.508924860688346| 240.7466264889564|\n|    201509|2015|    9|       SBIZ|   IMP|            SBDN|        PPB|          13|     201.366094316346| 8799.940063476562|  15.489699562795845|  676.918466421274|\n|    201509|2015|    9|       SBRJ|   SDU|            SBMQ|        MCP|         230|    1383.233644756895| 60448.97009277344|  6.0140593250299785|262.82160909901495|\n+----------+----+-----+-----------+------+----------------+-----------+------------+---------------------+------------------+--------------------+------------------+\nonly showing top 20 rows\n\n"
     ]
    }
   ],
   "source": [
    "anac_sts.show()"
   ]
  },
  {
   "cell_type": "code",
   "execution_count": null,
   "metadata": {},
   "outputs": [],
   "source": []
  }
 ]
}
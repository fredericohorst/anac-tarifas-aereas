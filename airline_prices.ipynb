{
 "metadata": {
  "language_info": {
   "codemirror_mode": {
    "name": "ipython",
    "version": 3
   },
   "file_extension": ".py",
   "mimetype": "text/x-python",
   "name": "python",
   "nbconvert_exporter": "python",
   "pygments_lexer": "ipython3",
   "version": "3.9.1-final"
  },
  "orig_nbformat": 2,
  "kernelspec": {
   "name": "python3",
   "display_name": "Python 3.9.1 64-bit",
   "metadata": {
    "interpreter": {
     "hash": "ac2eaa0ea0ebeafcc7822e65e46aa9d4f966f30b695406963e145ea4a91cd4fc"
    }
   }
  }
 },
 "nbformat": 4,
 "nbformat_minor": 2,
 "cells": [
  {
   "source": [
    "\n",
    "# Brazilian Airline Historical Series Analysis\n",
    "\n",
    "#### Frederico Horst\n",
    "\n",
    "### Data Sources:\n",
    "- Historical air fares by origin, destination and airline: available at [ANAC website](https://sistemas.anac.gov.br/sas/downloads/view/frmDownload.aspx)\n",
    "- Inflation data, using IPCA index: available at [IBGE website](https://www.ibge.gov.br/estatisticas/economicas/precos-e-custos/9256-indice-nacional-de-precos-ao-consumidor-amplo.html?=&t=series-historicas)\n",
    "- More information on air fares on [ANAC website](https://www.anac.gov.br/assuntos/dados-e-estatisticas/mercado-do-transporte-aereo)\n",
    "\n",
    "### Goals:\n",
    "- Build a database for historical deflated prices.\n",
    "- Calculate the confidence interval for the average price range by route, considering a 95% confidence.\n",
    "- Confidence intervals will be calculated by route, not considering airline differences. We want to take a closer look to the consumer point of view.\n"
   ],
   "cell_type": "markdown",
   "metadata": {}
  },
  {
   "cell_type": "code",
   "execution_count": 1,
   "metadata": {},
   "outputs": [],
   "source": [
    "# external libs\n",
    "import numpy as np\n",
    "import pandas as pd\n",
    "import matplotlib.pyplot as plt\n",
    "import seaborn as sns\n",
    "from pyspark.sql import SparkSession, SQLContext\n",
    "\n",
    "# internal lib:\n",
    "import files_processor\n",
    "\n",
    "# spark configs:\n",
    "spark = SparkSession.builder \\\n",
    "        .master(\"local\") \\\n",
    "        .appName(\"anac-prices\") \\\n",
    "        .config(\"spark.some.config.option\", \"some-value\") \\\n",
    "        .getOrCreate()\n",
    "\n",
    "sqlContext = SQLContext(spark)"
   ]
  },
  {
   "cell_type": "code",
   "execution_count": 2,
   "metadata": {},
   "outputs": [
    {
     "output_type": "stream",
     "name": "stdout",
     "text": [
      "###########################################################################\n",
      "BEGGINING DATA CLEANING PROCESS\n",
      "importing IPCA file\n",
      "Inflation series imported successfully\n",
      "#########################\n",
      "beginning data cleaning\n",
      "THIS IS THE END\n",
      "###########################################################################\n"
     ]
    }
   ],
   "source": [
    "# importing and cleaning files\n",
    "anac_table = files_processor.files_cleaning(\n",
    "    path_source='csv_files_from_anac',\n",
    "    inflation_file='ipca_historico.csv')"
   ]
  },
  {
   "cell_type": "code",
   "execution_count": 3,
   "metadata": {},
   "outputs": [
    {
     "output_type": "stream",
     "name": "stdout",
     "text": [
      "+----+-----+----------+-------+------+-----------+---------+------+-----+------------------+\n|year|month|year_month|company|origin|destination|    route|tariff|seats|   deflated_tariff|\n+----+-----+----------+-------+------+-----------+---------+------+-----+------------------+\n|2015|   11|    201511|    AZU|  SBPA|       SBSL|SBPA>SBSL| 985.9|    5|22.152816007370042|\n|2015|   11|    201511|    AZU|  SBGR|       SBCA|SBGR>SBCA| 305.9|    1| 6.873462234156097|\n|2015|   11|    201511|    AZU|  SBPJ|       SBPA|SBPJ>SBPA|187.39|    2| 4.210585446415531|\n|2015|   11|    201511|    AZU|  SBCT|       SBSP|SBCT>SBSP|100.01|   13| 2.247188486557539|\n|2015|   11|    201511|    AZU|  SBPA|       SBRP|SBPA>SBRP| 833.9|    1| 18.73743104629869|\n|2015|   11|    201511|    AZU|  SBFZ|       SBMO|SBFZ>SBMO| 603.9|    1|13.569415206608321|\n|2015|   11|    201511|    AZU|  SBGL|       SBMO|SBGL>SBMO| 425.9|    5| 9.569818782370323|\n|2015|   11|    201511|    AZU|  SBGR|       SBRF|SBGR>SBRF| 500.0|  103|11.234818950892606|\n|2015|   11|    201511|    AZU|  SBIL|       SBGL|SBIL>SBGL| 316.9|    1| 7.120628251075734|\n|2015|   11|    201511|    AZU|  SBCF|       SBBR|SBCF>SBBR|359.46|    1| 8.076936040175713|\n|2015|   11|    201511|    AZU|  SBGO|       SBSL|SBGO>SBSL|479.65|    1|10.777561819591277|\n|2015|   11|    201511|    AZU|  SBRP|       SBIP|SBRP>SBIP| 883.9|    1| 19.86091294138795|\n|2015|   11|    201511|    AZU|  SBSM|       SBPJ|SBSM>SBPJ| 722.9|    1| 16.24330123920053|\n|2015|   11|    201511|    AZU|  SBRJ|       SBSV|SBRJ>SBSV|874.71|    1|19.654416969070546|\n|2015|   11|    201511|    AZU|  SBRF|       SBSG|SBRF>SBSG|138.48|    1|3.1115954566392166|\n|2015|   11|    201511|    AZU|  SBGO|       SBGR|SBGO>SBGR| 300.9|    6|6.7611140446471705|\n|2015|   11|    201511|    AZU|  SBPL|       SBKP|SBPL>SBKP| 807.4|    2|18.141985641901382|\n|2015|   11|    201511|    AZU|  SBCT|       SBGR|SBCT>SBGR| 75.51|    1|1.6966823579638015|\n|2015|   11|    201511|    AZU|  SBSV|       SBNF|SBSV>SBNF| 579.9|    2|13.030143896965477|\n|2015|   11|    201511|    AZU|  SBGO|       SBPA|SBGO>SBPA| 450.2|    1|10.115830983383702|\n+----+-----+----------+-------+------+-----------+---------+------+-----+------------------+\nonly showing top 20 rows\n\n"
     ]
    }
   ],
   "source": [
    "anac_table.registerTempTable('anac_table')\n",
    "anac_table.show()"
   ]
  },
  {
   "cell_type": "code",
   "execution_count": 8,
   "metadata": {},
   "outputs": [],
   "source": [
    "# importing clean airports names\n",
    "# airports = sqlContext.read.csv('aeroportos.csv', sep=\";\", inferSchema=\"true\", header=\"true\")\n",
    "# airports.registerTempTable('airports')\n",
    "\n",
    "# calculating tariff mean without confidence interval\n",
    "grouping_query = \"\"\"\n",
    "    SELECT DISTINCT \n",
    "        year_month,\n",
    "        route,\n",
    "        SUM(seats) OVER partial AS sold_seats,\n",
    "        SUM(deflated_tariff) OVER partial AS total_deflated_tariff,\n",
    "        SUM(tariff) OVER partial AS total_tariff,\n",
    "        (SUM(deflated_tariff) OVER partial * SUM(seats) OVER partial) / SUM(seats) OVER total AS deflated_tariff_mean,\n",
    "        (SUM(tariff) OVER partial * SUM(seats) OVER partial) / SUM(seats) OVER total AS tariff_mean\n",
    "\n",
    "    FROM anac_table\n",
    "\n",
    "    WINDOW total AS (PARTITION BY year_month),\n",
    "        partial AS (PARTITION BY year_month, route)\n",
    "    \n",
    "    \"\"\"\n",
    "\n",
    "anac_sts = sqlContext.sql(grouping_query)\n",
    "\n"
   ]
  },
  {
   "cell_type": "code",
   "execution_count": 9,
   "metadata": {},
   "outputs": [
    {
     "output_type": "stream",
     "name": "stdout",
     "text": [
      "+----------+---------+----------+---------------------+------------+--------------------+------------------+\n|year_month|    route|sold_seats|total_deflated_tariff|total_tariff|deflated_tariff_mean|       tariff_mean|\n+----------+---------+----------+---------------------+------------+--------------------+------------------+\n|    200206|SBGL>SBPA|     10905|    818.4799734193633|     15273.0|   7.561658087523834| 141.1020522448122|\n|    200206|SBPA>SBSP|     36766|    512.6418795082583|      9566.0|  15.967751817657085|297.96144246784473|\n|    200206|SBUL>SBSP|      4418|   291.31520562480574|      5436.0|  1.0903656818735814|20.346441696897404|\n|    200206|SBCT>SBPA|      9930|    522.1273083889776|      9743.0|   4.392471633631049| 81.96439917788211|\n|    200206|SBSV>SBGR|     17808|    1044.361796765308|     19488.0|  15.756125538008217| 294.0124537643409|\n|    200206|SBBH>SBCT|      4108|     395.922873281101|      7388.0|  1.3779210545193294| 25.71228246154159|\n|    200206|SBSP>SBPA|     38198|    536.3286567132185|     10008.0|   17.35621157262368|323.87037918747234|\n|    200206|SBCT>SBBH|      5339|    469.9842445418592|      8770.0|   2.125820196116278| 39.66823002356896|\n|    200206|SBBR>SBGL|     11308|    797.7406458666037|     14886.0|   7.642418727292683|142.60906193502694|\n|    200206|SBGR>SBPA|     15395|    774.6969485857601|     14456.0|  10.104035124256185|188.54331622564527|\n|    200206|SBGR>SBEG|      4278|   1129.2483467486952|     21072.0|   4.092734310706102| 76.37124078463799|\n|    200206|SBKP>SBCT|      4550|   261.57275913441447|      4881.0|  1.0082940834127598| 18.81496925529878|\n|    200206|SBRF>SBGL|      8277|   1217.6182463210466|     22721.0|   8.538221386247404|159.32491871165385|\n|    200206|SBBR>SBSP|     38035|    947.1495482363531|     17674.0|  30.520053159079207|   569.51029595905|\n|    200206|SBCF>SBBR|      1424|     158.626381282087|      2960.0|  0.1913677341991314| 3.570960193702631|\n|    200206|SBPA>SBRJ|       691|   225.23874342182827|      4203.0|  0.1318573829680653|2.4604851376606915|\n|    200206|SBSP>SBGL|      6908|   145.87196278710837|      2722.0|  0.8537042908160221|15.930292807485136|\n|    200206|SBGR>SBCF|      4546|   500.69131091842524|      9343.0|   1.928336379932293|35.983142516812585|\n|    200206|SBCT>SBFL|       897|   186.43958800012865|      3479.0| 0.14168174145656126| 2.643809631927724|\n|    200206|SBKP>SBGL|       405|    97.10506854160191|      1812.0|0.033318100283597434|0.6217224149119849|\n+----------+---------+----------+---------------------+------------+--------------------+------------------+\nonly showing top 20 rows\n\n"
     ]
    }
   ],
   "source": [
    "# anac_sts_df = anac_sts.toPandas()\n",
    "# route = anac_sts_df.route.unique()\n",
    "# anac_sts_df.head()\n",
    "\n",
    "anac_sts.show()"
   ]
  },
  {
   "cell_type": "code",
   "execution_count": null,
   "metadata": {},
   "outputs": [],
   "source": [
    "# https://seaborn.pydata.org/examples/jitter_stripplot.html"
   ]
  }
 ]
}